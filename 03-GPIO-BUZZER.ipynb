{
 "metadata": {
  "name": "03-GPIO-BUZZER"
 },
 "nbformat": 3,
 "nbformat_minor": 0,
 "worksheets": [
  {
   "cells": [
    {
     "cell_type": "code",
     "collapsed": false,
     "input": [
      "from RPi import GPIO\n",
      "from time import sleep\n",
      "\n",
      "GPIO.setmode(GPIO.BOARD)"
     ],
     "language": "python",
     "metadata": {},
     "outputs": []
    },
    {
     "cell_type": "code",
     "collapsed": false,
     "input": [
      "buzzer_pin = 32"
     ],
     "language": "python",
     "metadata": {},
     "outputs": []
    },
    {
     "cell_type": "code",
     "collapsed": false,
     "input": [
      "def buzzer_on(ch=0):\n",
      "    GPIO.setup(buzzer_pin, GPIO.OUT)\n",
      "    GPIO.output(buzzer_pin, 0)\n",
      "\n",
      "def buzzer_off(ch=0):\n",
      "    GPIO.setup(buzzer_pin, GPIO.IN)"
     ],
     "language": "python",
     "metadata": {},
     "outputs": []
    },
    {
     "cell_type": "code",
     "collapsed": false,
     "input": [
      "for i in range(2):\n",
      "    buzzer_on()\n",
      "    sleep(0.2)\n",
      "    buzzer_off()\n",
      "    sleep(0.2)"
     ],
     "language": "python",
     "metadata": {},
     "outputs": []
    },
    {
     "cell_type": "code",
     "collapsed": false,
     "input": [
      "btn01 = 16\n",
      "GPIO.setup(btn01, GPIO.IN)\n",
      "\n",
      "btn02 = 18\n",
      "GPIO.setup(btn02, GPIO.IN)\n",
      "\n",
      "GPIO.add_event_detect(btn01, GPIO.RISING, buzzer_on ,bouncetime=20)\n",
      "GPIO.add_event_detect(btn02, GPIO.RISING, buzzer_off,bouncetime=20)"
     ],
     "language": "python",
     "metadata": {},
     "outputs": []
    },
    {
     "cell_type": "code",
     "collapsed": false,
     "input": [
      "GPIO.cleanup()"
     ],
     "language": "python",
     "metadata": {},
     "outputs": []
    }
   ],
   "metadata": {}
  }
 ]
}