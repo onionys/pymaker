{
 "metadata": {
  "name": "06-SPI-CC2500"
 },
 "nbformat": 3,
 "nbformat_minor": 0,
 "worksheets": [
  {
   "cells": [
    {
     "cell_type": "heading",
     "level": 1,
     "metadata": {},
     "source": [
      "SPI access "
     ]
    },
    {
     "cell_type": "code",
     "collapsed": false,
     "input": [
      "from spidev import SpiDev\n",
      "from time import sleep\n",
      "spi = SpiDev()\n",
      "spi.open(0,1)"
     ],
     "language": "python",
     "metadata": {},
     "outputs": [],
     "prompt_number": 1
    },
    {
     "cell_type": "code",
     "collapsed": false,
     "input": [
      "spi.xfer([0xC0 | 0x35 , 0x00])"
     ],
     "language": "python",
     "metadata": {},
     "outputs": [
      {
       "output_type": "pyout",
       "prompt_number": 2,
       "text": [
        "[0, 1]"
       ]
      }
     ],
     "prompt_number": 2
    },
    {
     "cell_type": "heading",
     "level": 1,
     "metadata": {},
     "source": [
      "access CC2500 via SPI "
     ]
    },
    {
     "cell_type": "code",
     "collapsed": false,
     "input": [
      "from IT.cc2500 import cc2500\n",
      "from time import sleep\n",
      "cc = cc2500()"
     ],
     "language": "python",
     "metadata": {},
     "outputs": [],
     "prompt_number": 3
    },
    {
     "cell_type": "heading",
     "level": 2,
     "metadata": {},
     "source": [
      "get cc2500 state "
     ]
    },
    {
     "cell_type": "code",
     "collapsed": false,
     "input": [
      "cc.info()"
     ],
     "language": "python",
     "metadata": {},
     "outputs": [
      {
       "output_type": "stream",
       "stream": "stdout",
       "text": [
        "state : 1 , tx: 0 , rx: 0 \n"
       ]
      }
     ],
     "prompt_number": 4
    },
    {
     "cell_type": "heading",
     "level": 2,
     "metadata": {},
     "source": [
      "set cc2500 into SIDEL"
     ]
    },
    {
     "cell_type": "code",
     "collapsed": false,
     "input": [
      "cc.SIDLE()\n",
      "cc.SFRX()\n",
      "cc.SFTX()\n",
      "cc.info()"
     ],
     "language": "python",
     "metadata": {},
     "outputs": []
    },
    {
     "cell_type": "heading",
     "level": 2,
     "metadata": {},
     "source": [
      "set cc2500 into SRX : receive state"
     ]
    },
    {
     "cell_type": "code",
     "collapsed": false,
     "input": [
      "cc.SRX()\n",
      "sleep(0.01)\n",
      "cc.info()"
     ],
     "language": "python",
     "metadata": {},
     "outputs": []
    },
    {
     "cell_type": "heading",
     "level": 2,
     "metadata": {},
     "source": [
      "reset cc2500 "
     ]
    },
    {
     "cell_type": "code",
     "collapsed": false,
     "input": [
      "cc.reset()\n",
      "cc.info()"
     ],
     "language": "python",
     "metadata": {},
     "outputs": []
    },
    {
     "cell_type": "heading",
     "level": 2,
     "metadata": {},
     "source": [
      "send message out"
     ]
    },
    {
     "cell_type": "code",
     "collapsed": false,
     "input": [
      "cc.send([ord(i) for i in \"How a lovely day~~~\"])"
     ],
     "language": "python",
     "metadata": {},
     "outputs": []
    },
    {
     "cell_type": "heading",
     "level": 2,
     "metadata": {},
     "source": [
      "Start to Receive Message"
     ]
    },
    {
     "cell_type": "code",
     "collapsed": false,
     "input": [
      "from IT.cc2500 import cc2500\n",
      "cc = cc2500()\n",
      "cc.start()"
     ],
     "language": "python",
     "metadata": {},
     "outputs": [],
     "prompt_number": 8
    },
    {
     "cell_type": "heading",
     "level": 2,
     "metadata": {},
     "source": [
      "Stop Receive"
     ]
    },
    {
     "cell_type": "code",
     "collapsed": false,
     "input": [
      "cc.stop()"
     ],
     "language": "python",
     "metadata": {},
     "outputs": [],
     "prompt_number": 9
    },
    {
     "cell_type": "code",
     "collapsed": false,
     "input": [
      "print cc.bus.xfer2([0xC0 | 0x3B, 0x00]) # read RX bytes\n",
      "print cc.bus.xfer2([0xC0 | 0x3A, 0x00]) # read TX bytes\n",
      "cc.bus.xfer2([0x3F|0x40,1,2,3,4,5,6,7,8,9]) # brust write data into TX FIFO buffer"
     ],
     "language": "python",
     "metadata": {},
     "outputs": []
    }
   ],
   "metadata": {}
  }
 ]
}