{
 "metadata": {
  "name": "05-EEPROM-I2C"
 },
 "nbformat": 3,
 "nbformat_minor": 0,
 "worksheets": [
  {
   "cells": [
    {
     "cell_type": "code",
     "collapsed": false,
     "input": [
      "import smbus\n",
      "from time import sleep\n",
      "i2c_addr = 0x50\n",
      "bus = smbus.SMBus(1)"
     ],
     "language": "python",
     "metadata": {},
     "outputs": []
    },
    {
     "cell_type": "heading",
     "level": 1,
     "metadata": {},
     "source": [
      "i2c protocol access"
     ]
    },
    {
     "cell_type": "code",
     "collapsed": false,
     "input": [
      "bus.write_i2c_block_data(i2c_addr, 0x00, [0,1,2,3,4,5])"
     ],
     "language": "python",
     "metadata": {},
     "outputs": []
    },
    {
     "cell_type": "code",
     "collapsed": false,
     "input": [
      "bus.read_i2c_block_data(i2c_addr, 0x00 , 10)"
     ],
     "language": "python",
     "metadata": {},
     "outputs": []
    },
    {
     "cell_type": "code",
     "collapsed": false,
     "input": [
      "from IT.edu import eeprom\n",
      "ee = eeprom(0x50)"
     ],
     "language": "python",
     "metadata": {},
     "outputs": []
    },
    {
     "cell_type": "code",
     "collapsed": false,
     "input": [
      "from time import sleep\n",
      "\n",
      "ee.bus.write_i2c_block_data(ee.i2c_addr, 0x08, [11,22,33,44,55,66,77,88,99])\n",
      "\n",
      "sleep(1)\n",
      "for i in range(20):\n",
      "    print ee.read_reg(i)"
     ],
     "language": "python",
     "metadata": {},
     "outputs": []
    },
    {
     "cell_type": "code",
     "collapsed": false,
     "input": [],
     "language": "python",
     "metadata": {},
     "outputs": []
    }
   ],
   "metadata": {}
  }
 ]
}