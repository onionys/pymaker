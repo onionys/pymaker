{
 "metadata": {
  "name": "02-GPIO-BUTTON"
 },
 "nbformat": 3,
 "nbformat_minor": 0,
 "worksheets": [
  {
   "cells": [
    {
     "cell_type": "heading",
     "level": 1,
     "metadata": {},
     "source": [
      "import module and setup"
     ]
    },
    {
     "cell_type": "code",
     "collapsed": false,
     "input": [
      "from RPi import GPIO\n",
      "\n",
      "GPIO.setmode(GPIO.BOARD)"
     ],
     "language": "python",
     "metadata": {},
     "outputs": [
      {
       "output_type": "stream",
       "stream": "stdout",
       "text": [
        "\n"
       ]
      }
     ],
     "prompt_number": 14
    },
    {
     "cell_type": "heading",
     "level": 1,
     "metadata": {},
     "source": [
      "setup button 01"
     ]
    },
    {
     "cell_type": "code",
     "collapsed": false,
     "input": [
      "btn01 = 16\n",
      "GPIO.setup(btn01, GPIO.IN)"
     ],
     "language": "python",
     "metadata": {},
     "outputs": []
    },
    {
     "cell_type": "code",
     "collapsed": false,
     "input": [
      "from time import sleep\n",
      "for i in range(10):\n",
      "    sleep(1)\n",
      "    print \"button input: %d\" % GPIO.input(btn01)"
     ],
     "language": "python",
     "metadata": {},
     "outputs": [
      {
       "output_type": "stream",
       "stream": "stdout",
       "text": [
        "button input: 1\n",
        "button input: 1"
       ]
      },
      {
       "output_type": "stream",
       "stream": "stdout",
       "text": [
        "\n",
        "button input: 1"
       ]
      },
      {
       "output_type": "stream",
       "stream": "stdout",
       "text": [
        "\n",
        "button input: 1"
       ]
      },
      {
       "output_type": "stream",
       "stream": "stdout",
       "text": [
        "\n",
        "button input: 1"
       ]
      },
      {
       "output_type": "stream",
       "stream": "stdout",
       "text": [
        "\n",
        "button input: 0"
       ]
      },
      {
       "output_type": "stream",
       "stream": "stdout",
       "text": [
        "\n",
        "button input: 0"
       ]
      },
      {
       "output_type": "stream",
       "stream": "stdout",
       "text": [
        "\n",
        "Hello !!!"
       ]
      },
      {
       "output_type": "stream",
       "stream": "stdout",
       "text": [
        "\n",
        "button input: 1"
       ]
      },
      {
       "output_type": "stream",
       "stream": "stdout",
       "text": [
        "\n",
        "button input: 1"
       ]
      },
      {
       "output_type": "stream",
       "stream": "stdout",
       "text": [
        "\n",
        "button input: 1"
       ]
      },
      {
       "output_type": "stream",
       "stream": "stdout",
       "text": [
        "\n"
       ]
      }
     ],
     "prompt_number": 15
    },
    {
     "cell_type": "heading",
     "level": 1,
     "metadata": {},
     "source": [
      "setup button 02 "
     ]
    },
    {
     "cell_type": "code",
     "collapsed": false,
     "input": [
      "btn02 = 18\n",
      "GPIO.setup(btn02, GPIO.IN)"
     ],
     "language": "python",
     "metadata": {},
     "outputs": []
    },
    {
     "cell_type": "code",
     "collapsed": false,
     "input": [
      "from time import sleep\n",
      "for i in range(10):\n",
      "    sleep(1)\n",
      "    print \"button input: %d\" % GPIO.input(btn02)"
     ],
     "language": "python",
     "metadata": {},
     "outputs": []
    },
    {
     "cell_type": "heading",
     "level": 1,
     "metadata": {},
     "source": [
      "Define hello function"
     ]
    },
    {
     "cell_type": "code",
     "collapsed": false,
     "input": [
      "def btn_hello(ch):\n",
      "    print \"Hello !!!\"\n",
      "\n",
      "GPIO.add_event_detect(btn01, GPIO.RISING, btn_hello ,bouncetime=20)"
     ],
     "language": "python",
     "metadata": {},
     "outputs": []
    },
    {
     "cell_type": "code",
     "collapsed": false,
     "input": [
      "GPIO.remove_event_detect(btn01)"
     ],
     "language": "python",
     "metadata": {},
     "outputs": []
    },
    {
     "cell_type": "heading",
     "level": 1,
     "metadata": {},
     "source": [
      "Define LED function"
     ]
    },
    {
     "cell_type": "code",
     "collapsed": false,
     "input": [
      "led01 = 13\n",
      "GPIO.setup(led01, GPIO.OUT)\n",
      "\n",
      "def turn_on_led01(ch):\n",
      "    GPIO.output(led01,1)\n",
      "    \n",
      "def turn_off_led01(ch):\n",
      "    GPIO.output(led01,0)"
     ],
     "language": "python",
     "metadata": {},
     "outputs": []
    },
    {
     "cell_type": "heading",
     "level": 1,
     "metadata": {},
     "source": [
      "Bind btn and function"
     ]
    },
    {
     "cell_type": "code",
     "collapsed": false,
     "input": [
      "GPIO.add_event_detect(btn01, GPIO.RISING, turn_on_led01 ,bouncetime=20)\n",
      "GPIO.add_event_detect(btn02, GPIO.RISING, turn_off_led01,bouncetime=20)"
     ],
     "language": "python",
     "metadata": {},
     "outputs": []
    },
    {
     "cell_type": "heading",
     "level": 1,
     "metadata": {},
     "source": [
      "remove button and function binding"
     ]
    },
    {
     "cell_type": "code",
     "collapsed": false,
     "input": [
      "GPIO.remove_event_detect(btn01)\n",
      "GPIO.remove_event_detect(btn02)"
     ],
     "language": "python",
     "metadata": {},
     "outputs": []
    }
   ],
   "metadata": {}
  }
 ]
}